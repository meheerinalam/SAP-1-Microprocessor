{
 "cells": [
  {
   "cell_type": "markdown",
   "id": "43c03d39-a2b1-4b89-8d90-1499f831aaba",
   "metadata": {},
   "source": [
    "# SAP-1 Assembler\n",
    "This notebook implements a simple assembler for our SAP-1 microprocessor.\n",
    "It converts human-readable assembly code into 8-bit machine code\n",
    "compatible with the Control Sequencer and RAM Auto-Loader.\n"
   ]
  },
  {
   "cell_type": "code",
   "execution_count": 1,
   "id": "a2786be1-aa31-4cdb-8b4f-66d0f42021fe",
   "metadata": {},
   "outputs": [],
   "source": [
    "# Instruction set for SAP-1\n",
    "OPCODES = {\n",
    "    'NOP': '0000',\n",
    "    'LDA': '0001',\n",
    "    'LDB': '0010',\n",
    "    'ADD': '0100',\n",
    "    'SUB': '0101',\n",
    "    'JMP': '1000',   # JMP always to 1000₂ (address 8)\n",
    "    'OUT': '1011',\n",
    "    'HLT': '1111'\n",
    "}"
   ]
  },
  {
   "cell_type": "code",
   "execution_count": 3,
   "id": "489b6664-6ef7-4523-82f3-8576816bd071",
   "metadata": {},
   "outputs": [],
   "source": [
    "def assemble_line(line):\n",
    "    \"\"\"\n",
    "    Convert one line of assembly to 2-digit hexadecimal machine code.\n",
    "    Handles JMP (fixed to address 8) and single-nibble operands.\n",
    "    \"\"\"\n",
    "    tokens = line.strip().split()\n",
    "    if not tokens:\n",
    "        return None\n",
    "\n",
    "    instr = tokens[0].upper()\n",
    "    if instr not in OPCODES:\n",
    "        raise ValueError(f\"Unknown instruction: {instr}\")\n",
    "\n",
    "    opcode = OPCODES[instr]\n",
    "\n",
    "    # Determine operand bits\n",
    "    if instr == 'JMP':\n",
    "        operand = '1000'  # JMP → address 8\n",
    "    elif len(tokens) == 2:\n",
    "        operand = format(int(tokens[1], 16), '04b')  # e.g., \"0A\" -> 1010\n",
    "    else:\n",
    "        operand = '0000'\n",
    "\n",
    "    # Build binary and convert to hex\n",
    "    binary_code = opcode + operand\n",
    "    hex_code = format(int(binary_code, 2), '02X')\n",
    "    return hex_code\n"
   ]
  },
  {
   "cell_type": "code",
   "execution_count": 5,
   "id": "543dad7d-6e9a-4055-9c70-2ed21fd5081c",
   "metadata": {},
   "outputs": [],
   "source": [
    "def assemble_program(lines):\n",
    "    \"\"\"\n",
    "    Assemble a full list of assembly instructions into hex codes.\n",
    "    Ignores blank lines and comments (marked with ';').\n",
    "    \"\"\"\n",
    "    output = []\n",
    "    for line in lines:\n",
    "        clean = line.split(';')[0].strip()  # remove comments\n",
    "        if clean:\n",
    "            output.append(assemble_line(clean))\n",
    "    return output\n"
   ]
  },
  {
   "cell_type": "code",
   "execution_count": 7,
   "id": "e3f47292-1f31-4f73-9b11-079a84f70e43",
   "metadata": {},
   "outputs": [
    {
     "name": "stdout",
     "output_type": "stream",
     "text": [
      " Enter your SAP-1 assembly program line by line.\n",
      "Type 'END' when you are done.\n",
      "\n"
     ]
    },
    {
     "name": "stdin",
     "output_type": "stream",
     "text": [
      ">>  LDA 0A\n",
      ">>  ADD 0B\n",
      ">>  JMP\n",
      ">>  HLT\n",
      ">>  END\n"
     ]
    },
    {
     "name": "stdout",
     "output_type": "stream",
     "text": [
      "\n",
      " Your program:\n",
      "00: LDA 0A\n",
      "01: ADD 0B\n",
      "02: JMP\n",
      "03: HLT\n"
     ]
    }
   ],
   "source": [
    "print(\" Enter your SAP-1 assembly program line by line.\")\n",
    "print(\"Type 'END' when you are done.\\n\")\n",
    "\n",
    "assembly_program = []\n",
    "\n",
    "while True:\n",
    "    line = input(\">> \").strip()\n",
    "    if line.upper() == \"END\":\n",
    "        break\n",
    "    if line:\n",
    "        assembly_program.append(line)\n",
    "\n",
    "print(\"\\n Your program:\")\n",
    "for i, l in enumerate(assembly_program):\n",
    "    print(f\"{i:02X}: {l}\")\n"
   ]
  },
  {
   "cell_type": "code",
   "execution_count": 9,
   "id": "180207a5-266e-4ecd-8dd1-67149a9eb742",
   "metadata": {},
   "outputs": [
    {
     "name": "stdout",
     "output_type": "stream",
     "text": [
      "\n",
      " Assembled Successfully!\n",
      "Machine Code (Hex):\n",
      "1A\n",
      "4B\n",
      "88\n",
      "F0\n"
     ]
    }
   ],
   "source": [
    "try:\n",
    "    hex_output = assemble_program(assembly_program)\n",
    "\n",
    "    print(\"\\n Assembled Successfully!\\nMachine Code (Hex):\")\n",
    "    for byte in hex_output:\n",
    "        print(byte)\n",
    "\n",
    "except Exception as e:\n",
    "    print(f\" Error: {e}\")\n"
   ]
  },
  {
   "cell_type": "code",
   "execution_count": 11,
   "id": "daa76f2c-cd70-49f0-a74d-605fc8c42291",
   "metadata": {},
   "outputs": [
    {
     "name": "stdout",
     "output_type": "stream",
     "text": [
      " Saved to 'program.hex' — ready for your RAM Auto-Loader!\n"
     ]
    }
   ],
   "source": [
    "# Save machine code to a .hex file (for RAM Auto-Loader)\n",
    "filename = \"program.hex\"\n",
    "\n",
    "with open(filename, \"w\") as f:\n",
    "    for byte in hex_output:\n",
    "        f.write(byte + \"\\n\")\n",
    "\n",
    "print(f\" Saved to '{filename}' — ready for your RAM Auto-Loader!\")\n"
   ]
  },
  {
   "cell_type": "code",
   "execution_count": null,
   "id": "166903a2-53b4-4246-b8fa-6cadd0dea9ed",
   "metadata": {},
   "outputs": [],
   "source": []
  }
 ],
 "metadata": {
  "kernelspec": {
   "display_name": "Python 3 (ipykernel)",
   "language": "python",
   "name": "python3"
  },
  "language_info": {
   "codemirror_mode": {
    "name": "ipython",
    "version": 3
   },
   "file_extension": ".py",
   "mimetype": "text/x-python",
   "name": "python",
   "nbconvert_exporter": "python",
   "pygments_lexer": "ipython3",
   "version": "3.12.7"
  }
 },
 "nbformat": 4,
 "nbformat_minor": 5
}
